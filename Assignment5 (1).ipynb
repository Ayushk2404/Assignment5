{
 "cells": [
  {
   "cell_type": "code",
   "execution_count": 1,
   "id": "31bf36c5-351d-4c6f-8d15-7cd575269107",
   "metadata": {},
   "outputs": [],
   "source": [
    "#Q1\n",
    "class Vehicle:\n",
    "    def __init__(self, name_of_vehicle, max_speed, average_speed):\n",
    "        self.name_of_vehicle = name_of_vehicle\n",
    "        self.max_speed = max_speed\n",
    "        self.average_speed = average_speed\n"
   ]
  },
  {
   "cell_type": "code",
   "execution_count": 2,
   "id": "6db508ee-a43d-45fa-b805-dc19d16ea3a2",
   "metadata": {},
   "outputs": [],
   "source": [
    "#Q2\n",
    "class Car(Vehicle):\n",
    "    def seating_capacity(self, capacity):\n",
    "        return f\"The {self.name_of_vehicle} has a seating capacity of {capacity} people.\"\n"
   ]
  },
  {
   "cell_type": "code",
   "execution_count": 4,
   "id": "427dec0d-6dc6-47e6-8cc5-83c17c972593",
   "metadata": {},
   "outputs": [
    {
     "name": "stdout",
     "output_type": "stream",
     "text": [
      "Bird: Chirp chirp!\n"
     ]
    }
   ],
   "source": [
    "#Q3\n",
    "\n",
    "# Multiple inheritance is a feature in object-oriented programming languages that allows a class to inherit attributes and methods from multiple parent classes. In other words, a class can have more than one immediate parent class, and it inherits the attributes and behaviors from all of them.\n",
    "# code\n",
    "class Animal:\n",
    "    def __init__(self, name):\n",
    "        self.name = name\n",
    "\n",
    "    def speak(self):\n",
    "        raise NotImplementedError(\"Subclass must implement the 'speak' method\")\n",
    "\n",
    "\n",
    "class Mammal(Animal):\n",
    "    def speak(self):\n",
    "        return \"Mammal: I can speak\"\n",
    "\n",
    "\n",
    "class Dog(Mammal):\n",
    "    def speak(self):\n",
    "        return \"Dog: Woof!\"\n",
    "\n",
    "\n",
    "class Bird(Animal):\n",
    "    def speak(self):\n",
    "        return \"Bird: Chirp chirp!\"\n",
    "\n",
    "\n",
    "class Parrot(Bird, Mammal):\n",
    "    pass\n",
    "\n",
    "\n",
    "# Creating instances and calling methods\n",
    "parrot = Parrot(\"Polly\")\n",
    "print(parrot.speak())\n",
    "\n"
   ]
  },
  {
   "cell_type": "code",
   "execution_count": 5,
   "id": "9bd5459c-5dcf-464a-859e-d75ece946e17",
   "metadata": {},
   "outputs": [],
   "source": [
    "# Q4\n",
    "# Getters allow retrieving the value of an attribute, while setters allow modifying the value of an attribute with some additional checks or operations.\n",
    "class Person:\n",
    "    def __init__(self, name):\n",
    "        self._name = name\n",
    "\n",
    "    def get_name(self):\n",
    "        return self._name\n",
    "\n",
    "    def set_name(self, name):\n",
    "        if isinstance(name, str):\n",
    "            self._name = name\n",
    "        else:\n",
    "            raise ValueError(\"Name must be a string.\")\n"
   ]
  },
  {
   "cell_type": "code",
   "execution_count": 6,
   "id": "49d79d1f-b273-416c-95e9-b2834151bc69",
   "metadata": {},
   "outputs": [
    {
     "name": "stdout",
     "output_type": "stream",
     "text": [
      "Animal: Generic sound\n",
      "Dog: Woof!\n",
      "Cat: Meow!\n"
     ]
    }
   ],
   "source": [
    "# Q5\n",
    "# Method overriding is a feature in object-oriented programming that allows a subclass to provide a different implementation of a method that is already defined in its parent class. When a method is overridden, the version of the method in the subclass is executed instead of the version in the parent class when called on an object of the subclass.\n",
    "class Animal:\n",
    "    def speak(self):\n",
    "        print(\"Animal: Generic sound\")\n",
    "\n",
    "\n",
    "class Dog(Animal):\n",
    "    def speak(self):\n",
    "        print(\"Dog: Woof!\")\n",
    "\n",
    "\n",
    "class Cat(Animal):\n",
    "    def speak(self):\n",
    "        print(\"Cat: Meow!\")\n",
    "\n",
    "\n",
    "# Creating instances and calling methods\n",
    "animal = Animal()\n",
    "animal.speak()  # Output: Animal: Generic sound\n",
    "\n",
    "dog = Dog()\n",
    "dog.speak()     # Output: Dog: Woof!\n",
    "\n",
    "cat = Cat()\n",
    "cat.speak()     # Output: Cat: Meow!\n"
   ]
  },
  {
   "cell_type": "code",
   "execution_count": null,
   "id": "f1bbff5f-7ce7-4361-9b75-923da13b1dd4",
   "metadata": {},
   "outputs": [],
   "source": []
  }
 ],
 "metadata": {
  "kernelspec": {
   "display_name": "Python 3 (ipykernel)",
   "language": "python",
   "name": "python3"
  },
  "language_info": {
   "codemirror_mode": {
    "name": "ipython",
    "version": 3
   },
   "file_extension": ".py",
   "mimetype": "text/x-python",
   "name": "python",
   "nbconvert_exporter": "python",
   "pygments_lexer": "ipython3",
   "version": "3.10.8"
  }
 },
 "nbformat": 4,
 "nbformat_minor": 5
}
